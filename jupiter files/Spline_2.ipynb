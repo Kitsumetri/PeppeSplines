{
 "cells": [
  {
   "cell_type": "code",
   "execution_count": 2,
   "id": "0f685595",
   "metadata": {},
   "outputs": [],
   "source": [
    "import sympy as sp\n",
    "import numpy as np\n",
    "import matplotlib.pyplot as plt"
   ]
  },
  {
   "cell_type": "code",
   "execution_count": 3,
   "id": "d49423b6",
   "metadata": {},
   "outputs": [],
   "source": [
    "def spline(xs, ys, x):\n",
    "    def h(i):\n",
    "        if i == 0:\n",
    "            i += 1\n",
    "        return xs[i] - xs[i-1]\n",
    "    \n",
    "    def all_args(i):\n",
    "        F = (ys[i+1] - ys[i])/h(i+1) - (ys[i] - ys[i-1])/h(i)\n",
    "        A = h(i)/6\n",
    "        B = (h(i) + h(i+1))/3\n",
    "        C = h(i+1)/6\n",
    "        return (A, B, C, F)\n",
    "    \n",
    "    def alpha(i):\n",
    "        A, B, C, F = all_args(i-1)\n",
    "        if i == 1:\n",
    "            return -C/B\n",
    "        return -C/(A*alpha(i-1) + B)\n",
    "    \n",
    "    def beta(i):\n",
    "        A, B, C, F = all_args(i-1)\n",
    "        if i == 1:\n",
    "            return F/B\n",
    "        return (F - A*beta(i-1))/(A*alpha(i-1) + B)\n",
    "    \n",
    "    def gamma(i):\n",
    "        if i == 0 or i == len(xs) - 1:\n",
    "            return 0\n",
    "        if i == len(xs) - 2:\n",
    "            A, B, C, F = all_args(i)\n",
    "            return (F - A*beta(i)) / (B + A*alpha(i))\n",
    "        return alpha(i+1) * gamma(i+1) + beta(i+1)\n",
    "    i = 0\n",
    "    vals = []\n",
    "    for xi in x:\n",
    "        while (i < len(xs) - 2) and not(xs[i] <= xi <= xs[i+1]):\n",
    "            i += 1\n",
    "        prt1 = (xs[i+1] - xi)/h(i+1)\n",
    "        prt2 = (xi - xs[i])/h(i+1)\n",
    "        prt3 = ((xs[i+1] - xi)**3 - h(i+1)**2 * (xs[i+1] - xi))/(6*h(i+1))\n",
    "        prt4 = ((xi - xs[i])**3 - h(i+1)**2 * (xi - xs[i]))/(6*h(i+1))\n",
    "        val = ys[i] * prt1 \\\n",
    "            + ys[i+1] * prt2 \\\n",
    "            + gamma(i) * prt3 \\\n",
    "            + gamma(i+1) * prt4\n",
    "        if abs(xi - xs[i]) < 1e-7 and abs(val - ys[i]) > 1e-7:\n",
    "            print(xs[i+1], xi, xs[i])\n",
    "            print(prt1, prt2, prt3, prt4, val, ys[i])\n",
    "        vals += [val]\n",
    "    return vals"
   ]
  },
  {
   "cell_type": "code",
   "execution_count": 4,
   "id": "86de11b2",
   "metadata": {
    "scrolled": true
   },
   "outputs": [
    {
     "name": "stdout",
     "output_type": "stream",
     "text": [
      "[-5 -3 -1  1  3  5]\n",
      "[ 0.95892427 -0.14112001 -0.84147098  0.84147098  0.14112001 -0.95892427]\n"
     ]
    },
    {
     "data": {
      "image/png": "[encoded data removed]",
      "text/plain": [
       "<Figure size 432x288 with 1 Axes>"
      ]
     },
     "metadata": {
      "needs_background": "light"
     },
     "output_type": "display_data"
    }
   ],
   "source": [
    "a, b = -5, 5\n",
    "X = np.arange(a, b+2, 2)\n",
    "print(X)\n",
    "Y = np.sin(X) #X**3 - X**2 + 2*X + 4\n",
    "print(Y)\n",
    "x0 = np.arange(a, b+0.2, 0.2)\n",
    "y0 = spline(X, Y, x0)\n",
    "plt.plot(X, Y)\n",
    "plt.plot(x0, y0, label = \"Spline\")\n",
    "plt.legend()\n",
    "plt.show()"
   ]
  },
  {
   "cell_type": "code",
   "execution_count": null,
   "id": "c3f92fb6",
   "metadata": {},
   "outputs": [],
   "source": []
  },
  {
   "cell_type": "code",
   "execution_count": null,
   "id": "b3ae7b91",
   "metadata": {},
   "outputs": [],
   "source": []
  }
 ],
 "metadata": {
  "kernelspec": {
   "display_name": "Python 3 (ipykernel)",
   "language": "python",
   "name": "python3"
  },
  "language_info": {
   "codemirror_mode": {
    "name": "ipython",
    "version": 3
   },
   "file_extension": ".py",
   "mimetype": "text/x-python",
   "name": "python",
   "nbconvert_exporter": "python",
   "pygments_lexer": "ipython3",
   "version": "3.10.4"
  }
 },
 "nbformat": 4,
 "nbformat_minor": 5
}

{
 "cells": [
  {
   "cell_type": "code",
   "execution_count": 1,
   "id": "8c8757fe",
   "metadata": {
    "pycharm": {
     "name": "#%%\n"
    }
   },
   "outputs": [
    {
     "ename": "ModuleNotFoundError",
     "evalue": "No module named 'sympy'",
     "output_type": "error",
     "traceback": [
      "\u001B[0;31m---------------------------------------------------------------------------\u001B[0m",
      "\u001B[0;31mModuleNotFoundError\u001B[0m                       Traceback (most recent call last)",
      "Input \u001B[0;32mIn [1]\u001B[0m, in \u001B[0;36m<cell line: 1>\u001B[0;34m()\u001B[0m\n\u001B[0;32m----> 1\u001B[0m \u001B[38;5;28;01mfrom\u001B[39;00m \u001B[38;5;21;01msympy\u001B[39;00m \u001B[38;5;28;01mimport\u001B[39;00m \u001B[38;5;241m*\u001B[39m\n\u001B[1;32m      2\u001B[0m \u001B[38;5;28;01mimport\u001B[39;00m \u001B[38;5;21;01mnumpy\u001B[39;00m \u001B[38;5;28;01mas\u001B[39;00m \u001B[38;5;21;01mnp\u001B[39;00m\n\u001B[1;32m      3\u001B[0m \u001B[38;5;28;01mimport\u001B[39;00m \u001B[38;5;21;01mmatplotlib\u001B[39;00m\u001B[38;5;21;01m.\u001B[39;00m\u001B[38;5;21;01mpyplot\u001B[39;00m \u001B[38;5;28;01mas\u001B[39;00m \u001B[38;5;21;01mplt\u001B[39;00m\n",
      "\u001B[0;31mModuleNotFoundError\u001B[0m: No module named 'sympy'"
     ]
    }
   ],
   "source": [
    "from sympy import *\n",
    "import numpy as np"
   ]
  },
  {
   "cell_type": "code",
   "execution_count": null,
   "id": "12d338b0",
   "metadata": {
    "pycharm": {
     "name": "#%%\n"
    }
   },
   "outputs": [],
   "source": [
    "# Functions\n",
    "\n",
    "def put(f, x, arg):\n",
    "    f = lambdify(x, f)\n",
    "    return f(*arg)\n",
    "\n",
    "def jacobian(f, x):\n",
    "    return np.matrix([[ fi.diff(xi) for fi in f ] for xi in x])\n",
    "\n",
    "def mult_put(xf, x, args):\n",
    "    return np.vectorize(lambda f: put(f, x, args))(xf)\n",
    "\n",
    "def print_values(x, X):\n",
    "    xX = [ str(x[i])+\" = \"+str(X[i]) for i in range(len(X))]\n",
    "    print(*xX, sep = \",\\t \")\n",
    "\n",
    "def newtone(xf, x, J, eps):\n",
    "    X = np.array([ z+1 for z in np.zeros(len(x)) ])\n",
    "    XF = mult_put(xf, x, X)\n",
    "    iterations = 0\n",
    "    while any(abs(xfi) > eps for xfi in XF):\n",
    "        JX = mult_put(J, x, X)**(-1)\n",
    "        X -= (XF*JX).A1\n",
    "        XF = mult_put(xf, x, X)\n",
    "        iterations += 1\n",
    "        \n",
    "        print(str(iterations)+\")\", end=\" \")\n",
    "        print_values(x, X)\n",
    "    return X"
   ]
  },
  {
   "cell_type": "code",
   "execution_count": 3,
   "id": "e32bc814",
   "metadata": {
    "pycharm": {
     "name": "#%%\n"
    }
   },
   "outputs": [],
   "source": [
    "X = (x1, x2, x3) = symbols(\"x1, x2, x3\")\n",
    "\n",
    "F = np.array([\n",
    "    x1**2 + x2,\n",
    "    x1 + x2 + x3,\n",
    "    x2**2 + x3\n",
    "])\n",
    "J = jacobian(F, X)"
   ]
  },
  {
   "cell_type": "code",
   "execution_count": 4,
   "id": "4333c117",
   "metadata": {
    "pycharm": {
     "name": "#%%\n"
    }
   },
   "outputs": [
    {
     "name": "stdout",
     "output_type": "stream",
     "text": [
      "eps =  0.001\n",
      "1) x1 = 0.0,\t x2 = 1.0000000000000002,\t x3 = -1.0000000000000004\n",
      "2) x1 = -1.0000000000000004,\t x2 = 0.0,\t x3 = 1.0000000000000004\n",
      "3) x1 = -0.3333333333333336,\t x2 = 0.3333333333333336,\t x3 = 0.0\n",
      "4) x1 = -0.12121212121212138,\t x2 = 0.030303030303030387,\t x3 = 0.09090909090909097\n",
      "5) x1 = -0.011989755445252853,\t x2 = 0.011785770948074644,\t x3 = 0.00020398449717820566\n",
      "6) x1 = -0.0002728808165060499,\t x2 = 0.0001372106871257526,\t x3 = 0.0001356701293802962\n",
      "Answer:\n",
      "x1 = -0.0002728808165060499,\t x2 = 0.0001372106871257526,\t x3 = 0.0001356701293802962\n"
     ]
    }
   ],
   "source": [
    "a, b = -10, 10\n",
    "eps = 1e-3\n",
    "\n",
    "print(\"eps = \", eps)\n",
    "new_points = newtone(F, X, J, eps)\n",
    "print(\"Answer:\")\n",
    "print_values(X, new_points)"
   ]
  },
  {
   "cell_type": "code",
   "execution_count": null,
   "id": "6c156c62",
   "metadata": {
    "pycharm": {
     "name": "#%%\n"
    }
   },
   "outputs": [],
   "source": []
  }
 ],
 "metadata": {
  "kernelspec": {
   "display_name": "Python 3 (ipykernel)",
   "language": "python",
   "name": "python3"
  },
  "language_info": {
   "codemirror_mode": {
    "name": "ipython",
    "version": 3
   },
   "file_extension": ".py",
   "mimetype": "text/x-python",
   "name": "python",
   "nbconvert_exporter": "python",
   "pygments_lexer": "ipython3",
   "version": "3.10.4"
  }
 },
 "nbformat": 4,
 "nbformat_minor": 5
}